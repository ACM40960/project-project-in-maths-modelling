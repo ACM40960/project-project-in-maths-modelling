{
 "cells": [
  {
   "cell_type": "markdown",
   "id": "80d65d5d",
   "metadata": {},
   "source": [
    "# YOLO Model Comparison on Test Set"
   ]
  },
  {
   "cell_type": "markdown",
   "id": "0d17053b",
   "metadata": {},
   "source": [
    "This notebook compares four trained models on the same test set:\n",
    "\n",
    "- YOLOv8 (baseline)\n",
    "- YOLOv11 (baseline)\n",
    "- YOLOv8 + Attention\n",
    "- YOLOv8 + Attention + Head\n",
    "\n",
    "The last two models use custom architectures and were validated externally, with results saved to JSON files."
   ]
  },
  {
   "cell_type": "markdown",
   "id": "1282f822",
   "metadata": {},
   "source": [
    "## 1. Import & Setup\n",
    "\n",
    "Load essential libraries"
   ]
  },
  {
   "cell_type": "code",
   "execution_count": 2,
   "id": "3cba95ca",
   "metadata": {},
   "outputs": [],
   "source": [
    "# import essential libraries\n",
    "import torch\n",
    "from ultralytics import YOLO\n",
    "import os\n",
    "import json\n",
    "import pandas as pd"
   ]
  },
  {
   "cell_type": "markdown",
   "id": "c5ceb8d8",
   "metadata": {},
   "source": [
    "## 2. Load JSON Results"
   ]
  },
  {
   "cell_type": "code",
   "execution_count": 16,
   "id": "c377442a",
   "metadata": {},
   "outputs": [
    {
     "data": {
      "text/html": [
       "<div>\n",
       "<style scoped>\n",
       "    .dataframe tbody tr th:only-of-type {\n",
       "        vertical-align: middle;\n",
       "    }\n",
       "\n",
       "    .dataframe tbody tr th {\n",
       "        vertical-align: top;\n",
       "    }\n",
       "\n",
       "    .dataframe thead th {\n",
       "        text-align: right;\n",
       "    }\n",
       "</style>\n",
       "<table border=\"1\" class=\"dataframe\">\n",
       "  <thead>\n",
       "    <tr style=\"text-align: right;\">\n",
       "      <th></th>\n",
       "      <th>mAP50</th>\n",
       "      <th>mAP50_95</th>\n",
       "      <th>precision</th>\n",
       "      <th>recall</th>\n",
       "    </tr>\n",
       "    <tr>\n",
       "      <th>model</th>\n",
       "      <th></th>\n",
       "      <th></th>\n",
       "      <th></th>\n",
       "      <th></th>\n",
       "    </tr>\n",
       "  </thead>\n",
       "  <tbody>\n",
       "    <tr>\n",
       "      <th>v8baseline</th>\n",
       "      <td>0.9690</td>\n",
       "      <td>0.8478</td>\n",
       "      <td>0.9536</td>\n",
       "      <td>0.9090</td>\n",
       "    </tr>\n",
       "    <tr>\n",
       "      <th>v11baseline</th>\n",
       "      <td>0.9786</td>\n",
       "      <td>0.8621</td>\n",
       "      <td>0.9609</td>\n",
       "      <td>0.9537</td>\n",
       "    </tr>\n",
       "    <tr>\n",
       "      <th>attention</th>\n",
       "      <td>0.9362</td>\n",
       "      <td>0.7659</td>\n",
       "      <td>0.9058</td>\n",
       "      <td>0.8820</td>\n",
       "    </tr>\n",
       "  </tbody>\n",
       "</table>\n",
       "</div>"
      ],
      "text/plain": [
       "              mAP50  mAP50_95  precision  recall\n",
       "model                                           \n",
       "v8baseline   0.9690    0.8478     0.9536  0.9090\n",
       "v11baseline  0.9786    0.8621     0.9609  0.9537\n",
       "attention    0.9362    0.7659     0.9058  0.8820"
      ]
     },
     "execution_count": 16,
     "metadata": {},
     "output_type": "execute_result"
    }
   ],
   "source": [
    "with open('v8baseline.json') as f: \n",
    "    v8 = json.load(f)\n",
    "with open('v11baseline.json') as f: \n",
    "    v11 = json.load(f)\n",
    "with open('attention_result.json') as f:\n",
    "    attn = json.load(f)\n",
    "# with open('../results/attn_head_result.json') as f:\n",
    "#     attn_head = json.load(f)\n",
    "\n",
    "all_metrics = [v8, v11, attn]\n",
    "df = pd.DataFrame(all_metrics)\n",
    "df = df.set_index('model')\n",
    "\n",
    "df\n"
   ]
  }
 ],
 "metadata": {
  "kernelspec": {
   "display_name": "animal_detect_baseline",
   "language": "python",
   "name": "python3"
  },
  "language_info": {
   "codemirror_mode": {
    "name": "ipython",
    "version": 3
   },
   "file_extension": ".py",
   "mimetype": "text/x-python",
   "name": "python",
   "nbconvert_exporter": "python",
   "pygments_lexer": "ipython3",
   "version": "3.9.23"
  }
 },
 "nbformat": 4,
 "nbformat_minor": 5
}
